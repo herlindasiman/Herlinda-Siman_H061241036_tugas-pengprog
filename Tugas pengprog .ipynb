{
 "cells": [
  {
   "cell_type": "markdown",
   "metadata": {},
   "source": [
    "# Nama      : Herlinda Siman \n",
    "# NIM       : H061241036  \n",
    "# Kelas     : A"
   ]
  },
  {
   "cell_type": "markdown",
   "metadata": {},
   "source": [
    "**Soal 1**: Seorang pelanggan membeli buah di pasar. Jika 3 angka terakhir NIM Anda genap, dia mendapatkan diskon 10%. Jika ganjil, diskon 5%. Buat program untuk menghitung total harga."
   ]
  },
  {
   "cell_type": "code",
   "execution_count": 10,
   "metadata": {},
   "outputs": [
    {
     "name": "stdout",
     "output_type": "stream",
     "text": [
      "Diskon yang diberikan: 10.0%\n",
      "Total harga setelah diskon: Rp36000.00\n"
     ]
    }
   ],
   "source": [
    "nim = 36\n",
    "harga_awal = 40000\n",
    "\n",
    "if nim % 2 == 0:\n",
    "    diskon = 0.10  \n",
    "else:\n",
    "    diskon = 0.05  \n",
    "\n",
    "potongan = harga_awal * diskon\n",
    "harga_total = harga_awal - potongan\n",
    "\n",
    "print(f\"Diskon yang diberikan: {diskon * 100}%\")\n",
    "print(f\"Total harga setelah diskon: Rp{harga_total:.2f}\")\n"
   ]
  },
  {
   "cell_type": "markdown",
   "metadata": {},
   "source": [
    "**Soal 2**: Seorang siswa ingin menentukan apakah dia lulus ujian. Jika 3 angka terakhir NIM Anda > 500, syarat kelulusan adalah nilai >= 80. Jika tidak, syaratnya nilai >= 75. Buat program untuk menentukan kelulusannya."
   ]
  },
  {
   "cell_type": "code",
   "execution_count": 11,
   "metadata": {},
   "outputs": [
    {
     "name": "stdout",
     "output_type": "stream",
     "text": [
      "LULUS (Syarat: 75, Nilai: 78)\n"
     ]
    }
   ],
   "source": [
    "nim = 36\n",
    "nilai = 78\n",
    "\n",
    "if nim > 500:\n",
    "    syarat_kelulusan = 80\n",
    "else:\n",
    "    syarat_kelulusan = 75\n",
    "\n",
    "if nilai >= syarat_kelulusan:\n",
    "    print(f\"LULUS (Syarat: {syarat_kelulusan}, Nilai: {nilai})\")\n",
    "else:\n",
    "    print(f\"TIDAK LULUS (Syarat: {syarat_kelulusan}, Nilai: {nilai})\")\n"
   ]
  },
  {
   "cell_type": "markdown",
   "metadata": {},
   "source": [
    "**Soal 3**: Sebuah toko online memberikan gratis ongkir jika total belanja di atas Rp 200.000 ditambah 3 angka terakhir NIM Anda. Buat program untuk menentukan apakah pelanggan mendapatkan gratis ongkir.\n"
   ]
  },
  {
   "cell_type": "code",
   "execution_count": 12,
   "metadata": {},
   "outputs": [
    {
     "name": "stdout",
     "output_type": "stream",
     "text": [
      "Selamat! Anda mendapatkan gratis ongkir. (Batas: Rp200036)\n"
     ]
    }
   ],
   "source": [
    "nim = 36\n",
    "total_belanja = 340000\n",
    "\n",
    "batas_gratis_ongkir = 200000 + nim\n",
    "\n",
    "if total_belanja > batas_gratis_ongkir:\n",
    "    print(f\"Selamat! Anda mendapatkan gratis ongkir. (Batas: Rp{batas_gratis_ongkir})\")\n",
    "else:\n",
    "    print(f\"Maaf, Anda belum memenuhi syarat gratis ongkir. (Batas: Rp{batas_gratis_ongkir})\")\n"
   ]
  },
  {
   "cell_type": "markdown",
   "metadata": {},
   "source": [
    "**Soal 4**: Seorang karyawan mendapatkan bonus jika bekerja lebih dari 40 jam. Bonusnya adalah 10% dari gaji ditambah 3 angka terakhir NIM Anda. Buat program untuk menghitung gaji karyawan."
   ]
  },
  {
   "cell_type": "code",
   "execution_count": 19,
   "metadata": {},
   "outputs": [
    {
     "name": "stdout",
     "output_type": "stream",
     "text": [
      "Total gaji karyawan: Rp4180036.00\n"
     ]
    }
   ],
   "source": [
    "nim = 36\n",
    "gaji = 3800000\n",
    "jam_kerja = 50\n",
    "\n",
    "if jam_kerja > 40:\n",
    "    bonus = (0.10 * gaji) + nim\n",
    "else:\n",
    "    bonus = 0\n",
    "\n",
    "total_gaji = gaji + bonus\n",
    "\n",
    "print(f\"Total gaji karyawan: Rp{total_gaji:.2f}\")"
   ]
  },
  {
   "cell_type": "markdown",
   "metadata": {},
   "source": [
    "**Soal 5**: Sebuah restoran mengenakan biaya tambahan 5% untuk pajak jika total pesanan di atas Rp 50.000 dikurangi 3 angka terakhir NIM Anda. Buat program untuk menghitung total biaya."
   ]
  },
  {
   "cell_type": "code",
   "execution_count": 20,
   "metadata": {},
   "outputs": [
    {
     "name": "stdout",
     "output_type": "stream",
     "text": [
      "Total biaya setelah pajak: Rp268800.00\n"
     ]
    }
   ],
   "source": [
    "nim = 36\n",
    "total_pesanan = 256000\n",
    "\n",
    "batas_pajak = 50000\n",
    "\n",
    "if total_pesanan > batas_pajak:\n",
    "    pajak = 0.05 * total_pesanan\n",
    "else:\n",
    "    pajak = 0\n",
    "\n",
    "total_biaya = total_pesanan + pajak\n",
    "\n",
    "print(f\"Total biaya setelah pajak: Rp{total_biaya:.2f}\")"
   ]
  },
  {
   "cell_type": "markdown",
   "metadata": {},
   "source": [
    "**Soal 6**: Seorang pelari ingin menentukan apakah dia berhasil memenuhi target latihan. Jika jarak lari > (3 angka terakhir NIM Anda), dia berhasil. Buat program untuk menentukan hasil latihannya."
   ]
  },
  {
   "cell_type": "code",
   "execution_count": 21,
   "metadata": {},
   "outputs": [
    {
     "name": "stdout",
     "output_type": "stream",
     "text": [
      "Selamat! Anda berhasil memenuhi target latihan.\n"
     ]
    }
   ],
   "source": [
    "nim = 36\n",
    "jarak_lari = 42.5\n",
    "\n",
    "target_lari = 36\n",
    "\n",
    "if jarak_lari > target_lari:\n",
    "    print(\"Selamat! Anda berhasil memenuhi target latihan.\")\n",
    "else:\n",
    "    print(\"Anda belum memenuhi target latihan.\")"
   ]
  },
  {
   "cell_type": "markdown",
   "metadata": {},
   "source": [
    "**Soal 7**: Sebuah bioskop memberikan tiket gratis untuk anak di bawah 5 tahun jika 3 angka terakhir NIM Anda genap. Jika ganjil, diskon 50%. Buat program untuk menentukan harga tiket.\n"
   ]
  },
  {
   "cell_type": "code",
   "execution_count": 25,
   "metadata": {},
   "outputs": [
    {
     "name": "stdout",
     "output_type": "stream",
     "text": [
      "Harga tiket: Rp50000.00\n"
     ]
    }
   ],
   "source": [
    "nim = 36\n",
    "usia_anak = 5\n",
    "harga_tiket = 50000\n",
    "\n",
    "if nim % 2 == 0:\n",
    "    if usia_anak < 5:\n",
    "        harga_tiket = 0\n",
    "else:\n",
    "    if usia_anak < 5:\n",
    "        harga_tiket *= 0.5\n",
    "\n",
    "print(f\"Harga tiket: Rp{harga_tiket:.2f}\")"
   ]
  },
  {
   "cell_type": "markdown",
   "metadata": {},
   "source": [
    "**Soal 8**: Sebuah toko buku memberikan diskon 20% jika pelanggan membeli lebih dari 5 buku dan 3 angka terakhir NIM Anda > 300. Jika tidak, diskon 10%. Buat program untuk menghitung total harga.\n"
   ]
  },
  {
   "cell_type": "code",
   "execution_count": 26,
   "metadata": {},
   "outputs": [
    {
     "name": "stdout",
     "output_type": "stream",
     "text": [
      "Total harga setelah diskon: Rp630000.00\n"
     ]
    }
   ],
   "source": [
    "nim = 36\n",
    "jumlah_buku = 7\n",
    "harga_per_buku = 100000\n",
    "total_harga = jumlah_buku * harga_per_buku\n",
    "\n",
    "diskon = 0.20 if jumlah_buku > 5 and nim > 300 else 0.10\n",
    "\n",
    "total_harga_setelah_diskon = total_harga - (total_harga * diskon)\n",
    "\n",
    "print(f\"Total harga setelah diskon: Rp{total_harga_setelah_diskon:.2f}\")"
   ]
  },
  {
   "cell_type": "markdown",
   "metadata": {},
   "source": [
    "**Soal 9**: Seorang mahasiswa ingin menentukan apakah suatu bilangan genap atau ganjil. Jika 3 angka terakhir NIM Anda genap, cetak \"Genap\". Jika ganjil, cetak \"Ganjil\"."
   ]
  },
  {
   "cell_type": "code",
   "execution_count": 27,
   "metadata": {},
   "outputs": [
    {
     "name": "stdout",
     "output_type": "stream",
     "text": [
      "Ganjil\n"
     ]
    }
   ],
   "source": [
    "nim = 36\n",
    "bilangan = 15\n",
    "\n",
    "if bilangan % 2 == 0:\n",
    "    print(\"Genap\")\n",
    "else:\n",
    "    print(\"Ganjil\")"
   ]
  },
  {
   "cell_type": "markdown",
   "metadata": {},
   "source": [
    "**Soal 10**: Sebuah aplikasi menentukan apakah suatu tahun adalah tahun kabisat. Jika 3 angka terakhir NIM Anda genap, cetak \"Kabisat\". Jika ganjil, cetak \"Bukan Kabisat\"."
   ]
  },
  {
   "cell_type": "code",
   "execution_count": 28,
   "metadata": {},
   "outputs": [
    {
     "name": "stdout",
     "output_type": "stream",
     "text": [
      "Kabisat\n"
     ]
    }
   ],
   "source": [
    "nim = 36\n",
    "tahun = 2024\n",
    "\n",
    "if (tahun % 4 == 0 and tahun % 100 != 0) or (tahun % 400 == 0):\n",
    "    print(\"Kabisat\")\n",
    "else:\n",
    "    print(\"Bukan Kabisat\")\n"
   ]
  },
  {
   "cell_type": "markdown",
   "metadata": {},
   "source": [
    "**Soal 11**: Seorang pelanggan ingin mencetak daftar belanjaannya sebanyak (3 angka terakhir NIM Anda % 10) kali. Buat program untuk mencetak daftar belanja tersebut."
   ]
  },
  {
   "cell_type": "code",
   "execution_count": 29,
   "metadata": {},
   "outputs": [
    {
     "name": "stdout",
     "output_type": "stream",
     "text": [
      "Cetakan 1: ['Anjing', 'Kucing', 'Kuda', 'Gajah', 'Panda']\n",
      "Cetakan 2: ['Anjing', 'Kucing', 'Kuda', 'Gajah', 'Panda']\n",
      "Cetakan 3: ['Anjing', 'Kucing', 'Kuda', 'Gajah', 'Panda']\n",
      "Cetakan 4: ['Anjing', 'Kucing', 'Kuda', 'Gajah', 'Panda']\n",
      "Cetakan 5: ['Anjing', 'Kucing', 'Kuda', 'Gajah', 'Panda']\n",
      "Cetakan 6: ['Anjing', 'Kucing', 'Kuda', 'Gajah', 'Panda']\n"
     ]
    }
   ],
   "source": [
    "nim = 36\n",
    "daftar_belanja = [\"Anjing\", \"Kucing\", \"Kuda\", \"Gajah\", \"Panda\"]\n",
    "ulang = nim % 10\n",
    "\n",
    "for i in range(ulang):\n",
    "    print(f\"Cetakan {i+1}: {daftar_belanja}\")"
   ]
  },
  {
   "cell_type": "markdown",
   "metadata": {},
   "source": [
    "**Soal 12**: Seorang guru ingin mencetak angka dari 1 sampai 100, tetapi hanya bilangan kelipatan (3 angka terakhir NIM Anda % 5). Buat program untuk mencetak bilangan tersebut."
   ]
  },
  {
   "cell_type": "code",
   "execution_count": 30,
   "metadata": {},
   "outputs": [
    {
     "name": "stdout",
     "output_type": "stream",
     "text": [
      "1\n",
      "2\n",
      "3\n",
      "4\n",
      "5\n",
      "6\n",
      "7\n",
      "8\n",
      "9\n",
      "10\n",
      "11\n",
      "12\n",
      "13\n",
      "14\n",
      "15\n",
      "16\n",
      "17\n",
      "18\n",
      "19\n",
      "20\n",
      "21\n",
      "22\n",
      "23\n",
      "24\n",
      "25\n",
      "26\n",
      "27\n",
      "28\n",
      "29\n",
      "30\n",
      "31\n",
      "32\n",
      "33\n",
      "34\n",
      "35\n",
      "36\n",
      "37\n",
      "38\n",
      "39\n",
      "40\n",
      "41\n",
      "42\n",
      "43\n",
      "44\n",
      "45\n",
      "46\n",
      "47\n",
      "48\n",
      "49\n",
      "50\n",
      "51\n",
      "52\n",
      "53\n",
      "54\n",
      "55\n",
      "56\n",
      "57\n",
      "58\n",
      "59\n",
      "60\n",
      "61\n",
      "62\n",
      "63\n",
      "64\n",
      "65\n",
      "66\n",
      "67\n",
      "68\n",
      "69\n",
      "70\n",
      "71\n",
      "72\n",
      "73\n",
      "74\n",
      "75\n",
      "76\n",
      "77\n",
      "78\n",
      "79\n",
      "80\n",
      "81\n",
      "82\n",
      "83\n",
      "84\n",
      "85\n",
      "86\n",
      "87\n",
      "88\n",
      "89\n",
      "90\n",
      "91\n",
      "92\n",
      "93\n",
      "94\n",
      "95\n",
      "96\n",
      "97\n",
      "98\n",
      "99\n",
      "100\n"
     ]
    }
   ],
   "source": [
    "nim = 36\n",
    "kelipatan = nim % 5\n",
    "\n",
    "for i in range(1, 101):\n",
    "    if i % kelipatan == 0:\n",
    "        print(i)"
   ]
  },
  {
   "cell_type": "markdown",
   "metadata": {},
   "source": [
    "**Soal 13**: Seorang penjual ingin mencetak tabel perkalian (3 angka terakhir NIM Anda % 9). Buat program untuk mencetak tabel tersebut."
   ]
  },
  {
   "cell_type": "code",
   "execution_count": 31,
   "metadata": {},
   "outputs": [
    {
     "name": "stdout",
     "output_type": "stream",
     "text": [
      "0 x 1 = 0\n",
      "0 x 2 = 0\n",
      "0 x 3 = 0\n",
      "0 x 4 = 0\n",
      "0 x 5 = 0\n",
      "0 x 6 = 0\n",
      "0 x 7 = 0\n",
      "0 x 8 = 0\n",
      "0 x 9 = 0\n",
      "0 x 10 = 0\n"
     ]
    }
   ],
   "source": [
    "nim = 36\n",
    "angka = nim % 9\n",
    "\n",
    "for i in range(1, 11):\n",
    "    print(f\"{angka} x {i} = {angka * i}\")"
   ]
  },
  {
   "cell_type": "markdown",
   "metadata": {},
   "source": [
    "**Soal 14**: Seorang pelukis ingin mencetak pola bintang segitiga siku-siku dengan tinggi (3 angka terakhir NIM Anda % 7). Buat program untuk mencetak pola tersebut."
   ]
  },
  {
   "cell_type": "code",
   "execution_count": 32,
   "metadata": {},
   "outputs": [
    {
     "name": "stdout",
     "output_type": "stream",
     "text": [
      "*\n"
     ]
    }
   ],
   "source": [
    "nim = 36\n",
    "tinggi = nim % 7\n",
    "\n",
    "for i in range(1, tinggi + 1):\n",
    "    print(\"*\" * i)"
   ]
  },
  {
   "cell_type": "markdown",
   "metadata": {},
   "source": [
    "**Soal 15**: Seorang peneliti ingin mencetak bilangan prima dari 1 sampai (3 angka terakhir NIM Anda). Buat program untuk mencetak bilangan prima tersebut.\n"
   ]
  },
  {
   "cell_type": "code",
   "execution_count": 33,
   "metadata": {},
   "outputs": [
    {
     "name": "stdout",
     "output_type": "stream",
     "text": [
      "2\n",
      "3\n",
      "5\n",
      "7\n",
      "11\n",
      "13\n",
      "17\n",
      "19\n",
      "23\n",
      "29\n",
      "31\n"
     ]
    }
   ],
   "source": [
    "nim = 36\n",
    "batas = nim\n",
    "\n",
    "def is_prime(n):\n",
    "    if n < 2:\n",
    "        return False\n",
    "    for i in range(2, int(n ** 0.5) + 1):\n",
    "        if n % i == 0:\n",
    "            return False\n",
    "    return True\n",
    "\n",
    "for i in range(1, batas + 1):\n",
    "    if is_prime(i):\n",
    "        print(i)"
   ]
  },
  {
   "cell_type": "markdown",
   "metadata": {},
   "source": [
    "**Soal 16**: Seorang programmer ingin mencetak deret Fibonacci sebanyak (3 angka terakhir NIM Anda % 10) bilangan. Buat program untuk mencetak deret tersebut.\n"
   ]
  },
  {
   "cell_type": "code",
   "execution_count": 34,
   "metadata": {},
   "outputs": [
    {
     "name": "stdout",
     "output_type": "stream",
     "text": [
      "0 1 1 2 3 5 "
     ]
    }
   ],
   "source": [
    "nim = 36\n",
    "jumlah_bilangan = nim % 10\n",
    "\n",
    "def fibonacci(n):\n",
    "    a, b = 0, 1\n",
    "    for _ in range(n):\n",
    "        print(a, end=\" \")\n",
    "        a, b = b, a + b\n",
    "\n",
    "fibonacci(jumlah_bilangan)\n"
   ]
  },
  {
   "cell_type": "markdown",
   "metadata": {},
   "source": [
    "**Soal 17**: Seorang petani ingin mencetak bilangan kelipatan (3 angka terakhir NIM Anda % 6) dari 1 sampai 100. Buat program untuk mencetak bilangan tersebut.\n"
   ]
  },
  {
   "cell_type": "code",
   "execution_count": 39,
   "metadata": {},
   "outputs": [
    {
     "name": "stdout",
     "output_type": "stream",
     "text": [
      "1\n",
      "2\n",
      "3\n",
      "4\n",
      "5\n",
      "6\n",
      "7\n",
      "8\n",
      "9\n",
      "10\n",
      "11\n",
      "12\n",
      "13\n",
      "14\n",
      "15\n",
      "16\n",
      "17\n",
      "18\n",
      "19\n",
      "20\n",
      "21\n",
      "22\n",
      "23\n",
      "24\n",
      "25\n",
      "26\n",
      "27\n",
      "28\n",
      "29\n",
      "30\n",
      "31\n",
      "32\n",
      "33\n",
      "34\n",
      "35\n",
      "36\n",
      "37\n",
      "38\n",
      "39\n",
      "40\n",
      "41\n",
      "42\n",
      "43\n",
      "44\n",
      "45\n",
      "46\n",
      "47\n",
      "48\n",
      "49\n",
      "50\n",
      "51\n",
      "52\n",
      "53\n",
      "54\n",
      "55\n",
      "56\n",
      "57\n",
      "58\n",
      "59\n",
      "60\n",
      "61\n",
      "62\n",
      "63\n",
      "64\n",
      "65\n",
      "66\n",
      "67\n",
      "68\n",
      "69\n",
      "70\n",
      "71\n",
      "72\n",
      "73\n",
      "74\n",
      "75\n",
      "76\n",
      "77\n",
      "78\n",
      "79\n",
      "80\n",
      "81\n",
      "82\n",
      "83\n",
      "84\n",
      "85\n",
      "86\n",
      "87\n",
      "88\n",
      "89\n",
      "90\n",
      "91\n",
      "92\n",
      "93\n",
      "94\n",
      "95\n",
      "96\n",
      "97\n",
      "98\n",
      "99\n",
      "100\n"
     ]
    }
   ],
   "source": [
    "nim = 36\n",
    "kelipatan = nim % 6\n",
    "\n",
    "if kelipatan == 0:\n",
    "    kelipatan = 1\n",
    "for i in range(1, 101):\n",
    "    if i % kelipatan == 0:\n",
    "        print(i)\n"
   ]
  },
  {
   "cell_type": "markdown",
   "metadata": {},
   "source": [
    "**Soal 18**: Seorang siswa ingin mencetak bilangan ganjil dari 1 sampai (3 angka terakhir NIM Anda). Buat program untuk mencetak bilangan tersebut."
   ]
  },
  {
   "cell_type": "code",
   "execution_count": 40,
   "metadata": {},
   "outputs": [
    {
     "name": "stdout",
     "output_type": "stream",
     "text": [
      "1\n",
      "3\n",
      "5\n",
      "7\n",
      "9\n",
      "11\n",
      "13\n",
      "15\n",
      "17\n",
      "19\n",
      "21\n",
      "23\n",
      "25\n",
      "27\n",
      "29\n",
      "31\n",
      "33\n",
      "35\n"
     ]
    }
   ],
   "source": [
    "nim = 36\n",
    "batas = nim\n",
    "\n",
    "for i in range(1, batas + 1, 2):\n",
    "    print(i)"
   ]
  },
  {
   "cell_type": "markdown",
   "metadata": {},
   "source": [
    "**Soal 19**: Seorang penjual ingin mencetak faktorial dari (3 angka terakhir NIM Anda % 8). Buat program untuk mencetak faktorial tersebut."
   ]
  },
  {
   "cell_type": "code",
   "execution_count": 41,
   "metadata": {},
   "outputs": [
    {
     "name": "stdout",
     "output_type": "stream",
     "text": [
      "Faktorial dari 4 adalah 24\n"
     ]
    }
   ],
   "source": [
    "nim = 36\n",
    "angka = nim % 8\n",
    "\n",
    "faktorial = 1\n",
    "for i in range(1, angka + 1):\n",
    "    faktorial *= i\n",
    "\n",
    "print(f\"Faktorial dari {angka} adalah {faktorial}\")"
   ]
  },
  {
   "cell_type": "markdown",
   "metadata": {},
   "source": [
    "**Soal 20**: Seorang pelanggan ingin mencetak \"Terima Kasih\" sebanyak (3 angka terakhir NIM Anda % 5) kali. Buat program untuk mencetak pesan tersebut."
   ]
  },
  {
   "cell_type": "code",
   "execution_count": 45,
   "metadata": {},
   "outputs": [
    {
     "name": "stdout",
     "output_type": "stream",
     "text": [
      "Terima Kasih\n"
     ]
    }
   ],
   "source": [
    "nim = 36\n",
    "jumlah_cetak = nim % 5\n",
    "\n",
    "for _ in range(jumlah_cetak):\n",
    "    print(\"Terima Kasih\")"
   ]
  }
 ],
 "metadata": {
  "kernelspec": {
   "display_name": "Python 3",
   "language": "python",
   "name": "python3"
  },
  "language_info": {
   "codemirror_mode": {
    "name": "ipython",
    "version": 3
   },
   "file_extension": ".py",
   "mimetype": "text/x-python",
   "name": "python",
   "nbconvert_exporter": "python",
   "pygments_lexer": "ipython3",
   "version": "3.13.2"
  }
 },
 "nbformat": 4,
 "nbformat_minor": 2
}
